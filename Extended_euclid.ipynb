{
  "nbformat": 4,
  "nbformat_minor": 0,
  "metadata": {
    "colab": {
      "name": "Untitled5.ipynb",
      "provenance": [],
      "toc_visible": true
    },
    "kernelspec": {
      "name": "python3",
      "display_name": "Python 3"
    }
  },
  "cells": [
    {
      "cell_type": "code",
      "metadata": {
        "id": "9vm9PLBFQzu3"
      },
      "source": [
        "def extended_euclid(a,b):\r\n",
        "  if a%b == 0:\r\n",
        "    return b,0,1;\r\n",
        "  else :\r\n",
        "   gcd,x,y = extended_euclid(b,a%b)\r\n",
        "   swap = x\r\n",
        "   x = y\r\n",
        "   y = swap - ((a-a%b)/b)*y\r\n",
        "   return gcd,x,y;\r\n"
      ],
      "execution_count": 1,
      "outputs": []
    }
  ]
}