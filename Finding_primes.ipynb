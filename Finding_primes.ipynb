{
  "nbformat": 4,
  "nbformat_minor": 0,
  "metadata": {
    "colab": {
      "name": "Untitled",
      "provenance": [],
      "collapsed_sections": []
    },
    "kernelspec": {
      "name": "python3",
      "display_name": "Python 3"
    }
  },
  "cells": [
    {
      "cell_type": "code",
      "metadata": {
        "id": "V_hFpVWNANWm"
      },
      "source": [
        "def primenumbers(n):\n",
        "  import numpy as np\n",
        "  A = np.arange(1,n+1)\n",
        "  for i in range(1,n-1):\n",
        "      if i > sqrt(n) + 2:\n",
        "        break\n",
        "      if A[i] != 0:\n",
        "        j = 2\n",
        "        while True:\n",
        "          if (i+1)*j > n:\n",
        "            break\n",
        "          else:\n",
        "            A[(i+1)*j-1] = 0\n",
        "            j = j+1\n",
        "  A[0] = 0\n",
        "  return A;"
      ],
      "execution_count": 24,
      "outputs": []
    },
    {
      "cell_type": "code",
      "metadata": {
        "id": "g9rvydw5kSzG"
      },
      "source": [
        ""
      ],
      "execution_count": 31,
      "outputs": []
    },
    {
      "cell_type": "code",
      "metadata": {
        "id": "B20NN0rrkP9l"
      },
      "source": [
        ""
      ],
      "execution_count": null,
      "outputs": []
    },
    {
      "cell_type": "code",
      "metadata": {
        "id": "zypP0ZEMiEP7"
      },
      "source": [
        ""
      ],
      "execution_count": 31,
      "outputs": []
    }
  ]
}
